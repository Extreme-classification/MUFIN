{
 "cells": [
  {
   "cell_type": "markdown",
   "id": "ddcb8a80-6125-47d9-9e03-e614ea8e17fc",
   "metadata": {},
   "source": [
    "### Setup"
   ]
  },
  {
   "cell_type": "code",
   "execution_count": 1,
   "id": "65846a34-2ffd-4c07-aff3-c42df0fbf30d",
   "metadata": {},
   "outputs": [],
   "source": [
    "work_dir=\"/scratch/cse/phd/anz198717/XC\"\n",
    "corpus_dataset=\"AmazonTitles-1.3M-dummy\"\n",
    "version=\"test_xc\"\n",
    "model_type=\"MufinTextXC\"\n",
    "img_model=\"ViT\"\n",
    "txt_model=\"sentencebert\"\n",
    "ranker=\"MufinXAttnRankerv\""
   ]
  },
  {
   "cell_type": "code",
   "execution_count": 2,
   "id": "4619b8f7-c45d-4c4c-912c-93710345acd3",
   "metadata": {},
   "outputs": [],
   "source": [
    "corpus_dset=f\"{work_dir}/Corpus/{corpus_dataset}\""
   ]
  },
  {
   "cell_type": "markdown",
   "id": "6bb1edb1-3154-40a2-9faa-22149abe08e7",
   "metadata": {},
   "source": [
    "## Tokenize and Build data"
   ]
  },
  {
   "cell_type": "code",
   "execution_count": 3,
   "id": "74452bf6-9d3f-469b-beed-9f7ac5add12e",
   "metadata": {},
   "outputs": [],
   "source": [
    "import site\n",
    "import sys\n",
    "site.addsitedir(f\"{work_dir}/programs/ExtremeMethods\")\n",
    "import os\n",
    "os.environ['KEEP_TOP_K'] = \"5\"\n",
    "os.environ['RESTRICTMEM'] = \"0\"\n",
    "os.environ['CUDA_VISIBLE_DEVICES'] = \"0,1\"\n",
    "import numpy as np\n",
    "import scipy.sparse as sp\n",
    "import mufin as mn"
   ]
  },
  {
   "cell_type": "code",
   "execution_count": 4,
   "id": "7a337667-f9a7-44e1-8b72-dc11c9ee5f0d",
   "metadata": {},
   "outputs": [
    {
     "name": "stdout",
     "output_type": "stream",
     "text": [
      "Namespace(A=0.55, B=1.5, accumulate=1, batch_size=512, bucket=1, data_dir='/scratch/cse/phd/anz198717/XC/Corpus/AmazonTitles-1.3M-dummy', data_path=None, dropout=0.2, encoder_init='module3/encoder.pkl', filter_labels='filter_labels_test.txt', head_dims=1024, img_model='ViT', keep_all=True, lbl_indices=array([      0,       1,       2, ..., 1305262, 1305263, 1305264]), margin=0.2, max_worker_thread=6, model_dir='/scratch/cse/phd/anz198717/XC/models/MM-AmazonTitles-300K/MufinTextXC/v_test_xc', model_fname='MufinTextXC', model_out_name='model.pkl', module=1, n_heads=2, n_layer=0, neg_sample=2, num_labels=1305265, num_workers=6, optim='Adam', prefetch_factor=2, project_dim=768, ranker='MufinXAttnRankerv', result_dir='/scratch/cse/phd/anz198717/XC/Corpus/AmazonTitles-1.3M-dummy/temp', top_k=100, txt_model='sentencebert', validate=False)\n"
     ]
    }
   ],
   "source": [
    "sys.argv = f\"MUFIN\".split()\n",
    "import argparse\n",
    "parser = argparse.ArgumentParser(description='Inference')\n",
    "params = parser.parse_args()\n",
    "params.A = 0.55\n",
    "params.B = 1.5\n",
    "\n",
    "params.data_dir = corpus_dset\n",
    "params.img_model = img_model\n",
    "params.filter_labels = \"filter_labels_test.txt\"\n",
    "params.txt_model = txt_model\n",
    "params.img_model = img_model\n",
    "params.data_path = None\n",
    "params.module = 1\n",
    "params.max_worker_thread = 6\n",
    "params.bucket = 1\n",
    "params.accumulate = 1\n",
    "params.margin = 0.2\n",
    "params.neg_sample = 2\n",
    "params.project_dim = 768\n",
    "params.n_heads = 2\n",
    "params.head_dims = 1024\n",
    "params.n_layer = 0\n",
    "params.dropout = 0.2\n",
    "params.keep_all = True\n",
    "params.batch_size = 512\n",
    "params.num_workers = 6\n",
    "params.validate = True\n",
    "params.model_out_name = \"model.pkl\"\n",
    "params.optim = \"Adam\"\n",
    "params.prefetch_factor = 2\n",
    "\"\"\"\n",
    "Adjust according to need\n",
    "\"\"\"\n",
    "params.ranker = ranker\n",
    "params.model_dir = f\"{work_dir}/models/MM-AmazonTitles-300K/{model_type}/v_{version}\"\n",
    "params.result_dir = f\"{corpus_dset}/temp\"\n",
    "params.model_fname = model_type\n",
    "params.num_labels = 1305265\n",
    "params.top_k = 100\n",
    "params.lbl_indices = np.arange(params.num_labels)\n",
    "\n",
    "ext = \"vect\" if \"PreTrained\" in model_type else \"bin\"\n",
    "params.encoder_init = None if \"PreTrained\" in model_type else \"module3/encoder.pkl\"\n",
    "os.makedirs(params.model_dir, exist_ok=True)\n",
    "print(params)"
   ]
  },
  {
   "cell_type": "markdown",
   "id": "bdcc6f0b-91b3-4d67-9f44-53d79c5d2ab6",
   "metadata": {},
   "source": [
    "### M1 Training"
   ]
  },
  {
   "cell_type": "code",
   "execution_count": 5,
   "id": "788c187d-1c0e-4f2f-be25-e2f84e0c3dfe",
   "metadata": {},
   "outputs": [
    {
     "name": "stdout",
     "output_type": "stream",
     "text": [
      "Using cosine scheudler\n"
     ]
    }
   ],
   "source": [
    "params.module = 1\n",
    "params.num_epochs = 0\n",
    "params.surrogate_warm = 20\n",
    "params.lr = 0.02\n",
    "params.at_least = 5\n",
    "params.ignore_img = False\n",
    "params.ignore_txt = False\n",
    "params.max_csim = 0.9\n",
    "params.max_worker_thread = 10\n",
    "params.min_leaf_sz = 32\n",
    "params.min_splits = -1\n",
    "params.sampling = True\n",
    "params.warm_start = 0\n",
    "params.multi_pos = 1\n",
    "params.preload = False\n",
    "params.surrogate_warm = 1000\n",
    "params.hard_pos = False\n",
    "params.batch_size = 1023\n",
    "\n",
    "net = mn.construct_network(params)\n",
    "optim = mn.optimizer_utils.Optimizer()"
   ]
  },
  {
   "cell_type": "code",
   "execution_count": 6,
   "id": "1576d050-6b8d-4b84-adb0-fda9512c73d3",
   "metadata": {},
   "outputs": [],
   "source": [
    "import torch\n",
    "data = torch.load(\"../../../temp/AMZ_TITS-1.3M/model.pt\")\n",
    "content = {}\n",
    "for k,v in data.items():\n",
    "    k = k.replace(\"0.transformer.0.auto_model\", \"item_encoder.module.txt_encoder.features\")\n",
    "    content[k] = v\n",
    "net.load_state_dict(content, strict=False)\n",
    "model = mn.construct_model(params, net, optim)\n",
    "# content.keys()"
   ]
  },
  {
   "cell_type": "code",
   "execution_count": null,
   "id": "aa1e39bc-a097-448c-bdf2-3b48a997da0e",
   "metadata": {},
   "outputs": [],
   "source": [
    "model.fit(corpus_dset, f\"temp/train.img.{ext}\", \"temp/train.txt.seq.memmap\", \"trn_X_Y.txt\", f\"temp/test.img.{ext}\",\n",
    "          \"temp/test.txt.seq.memmap\", \"tst_X_Y.txt\", f\"temp/label.img.{ext}\", \"temp/label.txt.seq.memmap\")"
   ]
  },
  {
   "cell_type": "code",
   "execution_count": null,
   "id": "73b8c990-880f-43e0-8c77-33cac4fd580d",
   "metadata": {},
   "outputs": [],
   "source": [
    "model.retrain(corpus_dset, f\"temp/train.img.{ext}\", \"temp/train.txt.seq.memmap\",\n",
    "              \"trn_X_Y.txt\", f\"temp/label.img.{ext}\", \"temp/label.txt.seq.memmap\")"
   ]
  },
  {
   "cell_type": "markdown",
   "id": "8c16353f-60ed-4bae-9b63-2d6ca55784f6",
   "metadata": {},
   "source": [
    "## SETUP for M2"
   ]
  },
  {
   "cell_type": "code",
   "execution_count": null,
   "id": "993644de-0874-420d-bbf2-ba6df288b2f4",
   "metadata": {},
   "outputs": [],
   "source": [
    "params.module = 2\n",
    "shorty_path = f\"{params.result_dir}/module2\"\n",
    "os.makedirs(shorty_path, exist_ok=True)\n",
    "net = mn.construct_network(params)\n",
    "optim = mn.optimizer_utils.Optimizer()\n",
    "model = mn.construct_model(params, net, optim)\n",
    "\n",
    "# for mode in [\"test\", \"train\", \"label\"]:\n",
    "#     tst_mat = model.predict(corpus_dset, f\"temp/{mode}.img.{ext}\", f\"temp/{mode}.txt.seq.memmap\", None, None, None)\n",
    "#     sp.save_npz(os.path.join(shorty_path, f\"{mode}.npz\"), tst_mat)\n"
   ]
  },
  {
   "cell_type": "code",
   "execution_count": null,
   "id": "096bc75c-adb7-4189-8e7d-f60a7318f52d",
   "metadata": {},
   "outputs": [],
   "source": [
    "params.module = 3\n",
    "\n",
    "emb_path = f\"{params.result_dir}/module3\"\n",
    "os.makedirs(emb_path, exist_ok=True)\n",
    "\n",
    "net = mn.construct_network(params)\n",
    "optim = mn.optimizer_utils.Optimizer()\n",
    "model = mn.construct_model(params, net, optim)\n",
    "\n",
    "# for mode in [\"test\", \"train\", \"label\"]:\n",
    "#     tst_emb = model.extract(corpus_dset, f\"temp/{mode}.img.{ext}\", f\"temp/{mode}.txt.seq.memmap\")\n",
    "#     for key in tst_emb.keys():\n",
    "#         tst_emb[key].save(emb_path+f\"/{mode}.{key}\")\n",
    "\n",
    "for mode in [\"train\", \"label\"]:\n",
    "    tst_emb = model.extract(corpus_dset, f\"temp/{mode}.img.{ext}\", f\"temp/{mode}.txt.seq.memmap\")\n",
    "    for key in tst_emb.keys():\n",
    "        tst_emb[key].save(emb_path+f\"/{mode}.{key}\")\n",
    "\n",
    "encoder = model.extract_encoder()\n",
    "torch.save(encoder, os.path.join(emb_path, \"encoder.pkl\"))\n"
   ]
  },
  {
   "cell_type": "markdown",
   "id": "fb44f459-ebeb-4669-897f-6462db65402f",
   "metadata": {},
   "source": [
    "## M4 Training"
   ]
  },
  {
   "cell_type": "code",
   "execution_count": 7,
   "id": "85310207-4b1b-4d80-963c-bbac9d01d9e4",
   "metadata": {},
   "outputs": [
    {
     "name": "stdout",
     "output_type": "stream",
     "text": [
      "Using cosine scheudler\n"
     ]
    }
   ],
   "source": [
    "params.module = 4\n",
    "params.sample_neg = 5\n",
    "params.sample_pos = 12\n",
    "params.cosine_margin = 0.5\n",
    "params.ranker_project_dim = 768\n",
    "params.lr = 0.005\n",
    "params.n_layer = 1\n",
    "params.lr_mf_enc = 0.01\n",
    "params.lr_mf_clf = 0.1\n",
    "params.boosting = False\n",
    "params.sampling = True\n",
    "params.ranker_warm = 1000\n",
    "params.num_epochs = 20\n",
    "params.batch_size = 512\n",
    "params.n_heads = 12\n",
    "params.ranker = \"MufinXAttnRankervpp\"\n",
    "emb_path = f\"{params.result_dir}/module4\"\n",
    "params.model_out_name = f\"model_{params.ranker}.pkl\"\n",
    "params.encoder_init = None\n",
    "params.encoder_init = None if \"PreTrained\" in model_type else f\"{emb_path}/encoder.pkl\"\n",
    "os.makedirs(emb_path, exist_ok=True)\n",
    "\n",
    "net = mn.construct_network(params)\n",
    "optim = mn.optimizer_utils.Optimizer()\n",
    "model = mn.construct_model(params, net, optim)\n"
   ]
  },
  {
   "cell_type": "code",
   "execution_count": null,
   "id": "78d9773a-edd3-4db2-b485-aa121de2d09a",
   "metadata": {},
   "outputs": [],
   "source": [
    "model.fit(corpus_dset, f\"module3/train.img.pretrained\", \"temp/train.txt.seq.memmap\", \"trn_X_Y.txt\", None, \n",
    "          None, None, f\"module3/label.img.pretrained\", \"temp/label.txt.seq.memmap\")"
   ]
  },
  {
   "cell_type": "code",
   "execution_count": 8,
   "id": "90e452df-68d9-4d92-b6d0-277c18a7d587",
   "metadata": {},
   "outputs": [
    {
     "name": "stdout",
     "output_type": "stream",
     "text": [
      "IMG:module3/test.img.pretrained(read_full=True)\n",
      "/scratch/cse/phd/anz198717/XC/Corpus/AmazonTitles-1.3M-dummy/module3/test.img.pretrained not found!!\n",
      "TXT:temp/test.txt.seq.memmap(read_full=True)\n",
      "temp/test.txt.seq.memmap Avg. Tokens = 15.20986418782215\n",
      "IMG:module3/label.img.pretrained(read_full=True)\n",
      "/scratch/cse/phd/anz198717/XC/Corpus/AmazonTitles-1.3M-dummy/module3/label.img.pretrained not found!!\n",
      "TXT:temp/label.txt.seq.memmap(read_full=True)\n",
      "temp/label.txt.seq.memmap Avg. Tokens = 15.811270508287588\n",
      "Loading model..\n",
      "Unwrapping Distributed DDP.\n"
     ]
    },
    {
     "name": "stderr",
     "output_type": "stream",
     "text": [
      "                                                         \r"
     ]
    },
    {
     "name": "stdout",
     "output_type": "stream",
     "text": [
      "docs: 100%|██████████| 1895/1895 [01:23<00:00, 28.06it/s]\n"
     ]
    },
    {
     "name": "stderr",
     "output_type": "stream",
     "text": [
      "                                                         \r"
     ]
    },
    {
     "name": "stdout",
     "output_type": "stream",
     "text": [
      "lbls: 100%|██████████| 2550/2550 [01:36<00:00, 28.60it/s]\n"
     ]
    },
    {
     "name": "stderr",
     "output_type": "stream",
     "text": [
      "                                                               \r"
     ]
    },
    {
     "name": "stdout",
     "output_type": "stream",
     "text": [
      "Predicting: 100%|██████████| 3790/3790 [07:40<00:00,  7.67it/s]\n",
      "97023953 97023700\n"
     ]
    }
   ],
   "source": [
    "score_mat = model.predict(corpus_dset, f\"module3/test.img.pretrained\", \"temp/test.txt.seq.memmap\",\n",
    "                          None, f\"module3/label.img.pretrained\", \"temp/label.txt.seq.memmap\")"
   ]
  },
  {
   "cell_type": "code",
   "execution_count": null,
   "id": "af32ac83-90fc-4f4d-8859-8c451b4f18ce",
   "metadata": {},
   "outputs": [],
   "source": [
    "print(score_mat)"
   ]
  },
  {
   "cell_type": "code",
   "execution_count": null,
   "id": "65292a7f-575f-4ed1-b9b4-45038abc3399",
   "metadata": {},
   "outputs": [],
   "source": [
    "model.fit(corpus_dset, f\"module3/train.img.pretrained\", \"module3/train.txt.pretrained\", \"trn_X_Y.txt\", f\"module3/test.img.pretrained\", \n",
    "          \"module3/test.txt.pretrained\", \"tst_X_Y.txt\", f\"module3/label.img.pretrained\", \"module3/label.txt.pretrained\")"
   ]
  },
  {
   "cell_type": "code",
   "execution_count": null,
   "id": "5025a5ff-a964-4bd7-81f2-44d99cef07ce",
   "metadata": {},
   "outputs": [],
   "source": [
    "score_mat = model.predict(corpus_dset, f\"module3/test.img.pretrained\", \"module3/test.txt.pretrained\",\n",
    "                          None, f\"module3/label.img.pretrained\", \"module3/label.txt.pretrained\")"
   ]
  },
  {
   "cell_type": "code",
   "execution_count": 9,
   "id": "899204d7-2bca-4aa3-9c75-0fdd1e19f46e",
   "metadata": {},
   "outputs": [
    {
     "name": "stdout",
     "output_type": "stream",
     "text": [
      "UTILS:FILTER:Loading from pre-build file\n",
      "UTILS:FILTER:Overlap is:9508910\n"
     ]
    }
   ],
   "source": [
    "from xclib.evaluation import xc_metrics as xm\n",
    "from xc.libs.utils import load_overlap\n",
    "from xclib.data import data_utils as du\n",
    "\n",
    "tst_y = du.read_sparse_file(f\"{corpus_dset}/tst_X_Y.txt\")\n",
    "acc = xm.Metrics(tst_y)\n",
    "docs, lbls = load_overlap(corpus_dset, params.lbl_indices, \"filter_labels_test.txt\")"
   ]
  },
  {
   "cell_type": "code",
   "execution_count": 10,
   "id": "b6f1422c-67c4-400d-a558-b45212d61dde",
   "metadata": {},
   "outputs": [],
   "source": [
    "def evaluations(score_dict, acc, docs, lbls, al=0.9):\n",
    "    m2 = score_dict[\"module4/m2\"]\n",
    "    m4 = score_dict[\"module4/m4\"]\n",
    "    m2[docs, lbls] = 0\n",
    "    m2.eliminate_zeros()\n",
    "    print(acc.eval(m2, K=5))\n",
    "    m4[docs, lbls] = 0\n",
    "    m4.eliminate_zeros()\n",
    "    print(acc.eval(m4, K=5))\n",
    "    for alpha in [0.1, 0.3, 0.5, 0.7, 0.9]:\n",
    "        mat = m2.copy().multiply(alpha) + m4.copy().multiply(1-alpha)\n",
    "        print(f\"alpha={alpha}\")\n",
    "        print(acc.eval(mat, K=5))\n",
    "    return m2.copy().multiply(al) + m4.copy().multiply(1-al)"
   ]
  },
  {
   "cell_type": "code",
   "execution_count": null,
   "id": "78d854a4-75fd-484c-81b5-7e28db52d442",
   "metadata": {},
   "outputs": [
    {
     "name": "stderr",
     "output_type": "stream",
     "text": [
      "/scratch/cse/phd/anz198717/anaconda3/lib/python3.7/site-packages/scipy/sparse/_index.py:125: SparseEfficiencyWarning: Changing the sparsity structure of a csr_matrix is expensive. lil_matrix is more efficient.\n",
      "  self._set_arrayXarray(i, j, x)\n"
     ]
    },
    {
     "name": "stdout",
     "output_type": "stream",
     "text": [
      "[array([0.42498276, 0.38770476, 0.36062185, 0.33943459, 0.32207471]), array([0.42498276, 0.40845424, 0.39884531, 0.39263657, 0.38846153],\n",
      "      dtype=float32)]\n",
      "[array([0.32245111, 0.29358085, 0.27007284, 0.25218014, 0.23771615]), array([0.3224511 , 0.30851772, 0.2982462 , 0.29142857, 0.28661007],\n",
      "      dtype=float32)]\n",
      "alpha=0.1\n",
      "[array([0.40869087, 0.37433843, 0.34866326, 0.32861507, 0.31208354]), array([0.40869087, 0.3934151 , 0.38400957, 0.37788042, 0.3736418 ],\n",
      "      dtype=float32)]\n",
      "alpha=0.3\n",
      "[array([0.41598187, 0.38092445, 0.35482705, 0.33449843, 0.31760384]), array([0.41598186, 0.40067762, 0.39137542, 0.3854444 , 0.3813042 ],\n",
      "      dtype=float32)]\n",
      "alpha=0.5\n"
     ]
    }
   ],
   "source": [
    "only_img = evaluations(score_mat, acc, docs, lbls, 0.9)"
   ]
  },
  {
   "cell_type": "code",
   "execution_count": null,
   "id": "23d5ff04-0903-40db-8805-987f284b0ee1",
   "metadata": {},
   "outputs": [],
   "source": []
  }
 ],
 "metadata": {
  "kernelspec": {
   "display_name": "Python 3",
   "language": "python",
   "name": "python3"
  },
  "language_info": {
   "codemirror_mode": {
    "name": "ipython",
    "version": 3
   },
   "file_extension": ".py",
   "mimetype": "text/x-python",
   "name": "python",
   "nbconvert_exporter": "python",
   "pygments_lexer": "ipython3",
   "version": "3.7.10"
  }
 },
 "nbformat": 4,
 "nbformat_minor": 5
}
